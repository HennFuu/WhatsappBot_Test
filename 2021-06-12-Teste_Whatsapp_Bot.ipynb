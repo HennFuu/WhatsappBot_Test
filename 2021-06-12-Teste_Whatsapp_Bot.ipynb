{
 "cells": [
  {
   "cell_type": "code",
   "execution_count": 12,
   "metadata": {},
   "outputs": [
    {
     "name": "stdout",
     "output_type": "stream",
     "text": [
      "Requirement already satisfied: whatsapp_api in c:\\users\\henri\\anaconda3\\lib\\site-packages (0.0.3)\n",
      "Requirement already satisfied: requests in c:\\users\\henri\\anaconda3\\lib\\site-packages (from whatsapp_api) (2.24.0)\n",
      "Requirement already satisfied: defcon-utils in c:\\users\\henri\\anaconda3\\lib\\site-packages (from whatsapp_api) (0.0.4)\n",
      "Requirement already satisfied: idna<3,>=2.5 in c:\\users\\henri\\anaconda3\\lib\\site-packages (from requests->whatsapp_api) (2.10)\n",
      "Requirement already satisfied: urllib3!=1.25.0,!=1.25.1,<1.26,>=1.21.1 in c:\\users\\henri\\anaconda3\\lib\\site-packages (from requests->whatsapp_api) (1.25.11)\n",
      "Requirement already satisfied: certifi>=2017.4.17 in c:\\users\\henri\\anaconda3\\lib\\site-packages (from requests->whatsapp_api) (2020.6.20)\n",
      "Requirement already satisfied: chardet<4,>=3.0.2 in c:\\users\\henri\\anaconda3\\lib\\site-packages (from requests->whatsapp_api) (3.0.4)\n",
      "Requirement already satisfied: sendgrid==6.3.1 in c:\\users\\henri\\anaconda3\\lib\\site-packages (from defcon-utils->whatsapp_api) (6.3.1)\n",
      "Requirement already satisfied: boto3==1.13.4 in c:\\users\\henri\\anaconda3\\lib\\site-packages (from defcon-utils->whatsapp_api) (1.13.4)\n",
      "Requirement already satisfied: pytz in c:\\users\\henri\\anaconda3\\lib\\site-packages (from defcon-utils->whatsapp_api) (2020.1)\n",
      "Requirement already satisfied: python-dateutil in c:\\users\\henri\\anaconda3\\lib\\site-packages (from defcon-utils->whatsapp_api) (2.8.1)\n",
      "Requirement already satisfied: python-http-client>=3.2.1 in c:\\users\\henri\\anaconda3\\lib\\site-packages (from sendgrid==6.3.1->defcon-utils->whatsapp_api) (3.3.2)\n",
      "Requirement already satisfied: botocore<1.17.0,>=1.16.4 in c:\\users\\henri\\anaconda3\\lib\\site-packages (from boto3==1.13.4->defcon-utils->whatsapp_api) (1.16.26)\n",
      "Requirement already satisfied: jmespath<1.0.0,>=0.7.1 in c:\\users\\henri\\anaconda3\\lib\\site-packages (from boto3==1.13.4->defcon-utils->whatsapp_api) (0.10.0)\n",
      "Requirement already satisfied: s3transfer<0.4.0,>=0.3.0 in c:\\users\\henri\\anaconda3\\lib\\site-packages (from boto3==1.13.4->defcon-utils->whatsapp_api) (0.3.7)\n",
      "Requirement already satisfied: six>=1.5 in c:\\users\\henri\\anaconda3\\lib\\site-packages (from python-dateutil->defcon-utils->whatsapp_api) (1.15.0)\n",
      "Requirement already satisfied: docutils<0.16,>=0.10 in c:\\users\\henri\\anaconda3\\lib\\site-packages (from botocore<1.17.0,>=1.16.4->boto3==1.13.4->defcon-utils->whatsapp_api) (0.15.2)\n"
     ]
    },
    {
     "ename": "ModuleNotFoundError",
     "evalue": "No module named 'whatsapp_api'",
     "output_type": "error",
     "traceback": [
      "\u001b[1;31m---------------------------------------------------------------------------\u001b[0m",
      "\u001b[1;31mModuleNotFoundError\u001b[0m                       Traceback (most recent call last)",
      "\u001b[1;32m<ipython-input-12-3d03f063f602>\u001b[0m in \u001b[0;36m<module>\u001b[1;34m\u001b[0m\n\u001b[0;32m      1\u001b[0m \u001b[1;32mfrom\u001b[0m \u001b[0mtime\u001b[0m \u001b[1;32mimport\u001b[0m \u001b[0msleep\u001b[0m\u001b[1;33m\u001b[0m\u001b[1;33m\u001b[0m\u001b[0m\n\u001b[0;32m      2\u001b[0m \u001b[0mget_ipython\u001b[0m\u001b[1;33m(\u001b[0m\u001b[1;33m)\u001b[0m\u001b[1;33m.\u001b[0m\u001b[0msystem\u001b[0m\u001b[1;33m(\u001b[0m\u001b[1;34m' pip install --user whatsapp_api'\u001b[0m\u001b[1;33m)\u001b[0m\u001b[1;33m\u001b[0m\u001b[1;33m\u001b[0m\u001b[0m\n\u001b[1;32m----> 3\u001b[1;33m \u001b[1;32mfrom\u001b[0m \u001b[0mwhatsapp_api\u001b[0m \u001b[1;32mimport\u001b[0m \u001b[0mWhatsApp\u001b[0m\u001b[1;33m\u001b[0m\u001b[1;33m\u001b[0m\u001b[0m\n\u001b[0m",
      "\u001b[1;31mModuleNotFoundError\u001b[0m: No module named 'whatsapp_api'"
     ]
    }
   ],
   "source": [
    "from time import sleep\n",
    "from whatsapp_api import WhatsApp"
   ]
  },
  {
   "cell_type": "code",
   "execution_count": null,
   "metadata": {},
   "outputs": [],
   "source": [
    "wp = WhatsApp()"
   ]
  },
  {
   "cell_type": "code",
   "execution_count": null,
   "metadata": {},
   "outputs": [],
   "source": [
    "input(\"Escaneie o QR Code e aperte Enter\")"
   ]
  },
  {
   "cell_type": "code",
   "execution_count": null,
   "metadata": {},
   "outputs": [],
   "source": [
    "buscar_contato = ['Carlos H', 'マイメモ']"
   ]
  },
  {
   "cell_type": "code",
   "execution_count": null,
   "metadata": {},
   "outputs": [],
   "source": [
    "nomes = ['Carlos', 'Henrique']"
   ]
  },
  {
   "cell_type": "code",
   "execution_count": null,
   "metadata": {},
   "outputs": [],
   "source": [
    "for (primeiro_nome, nome_pesquisar) in zip(nomes, buscar_contato, ):\n",
    "    \n",
    "    wp.search_contact(nome_pesquisar)\n",
    "    sleep(2)\n",
    "    \n",
    "    mensagem = f\"Tô fazendo uns testes com um bot do whats, {primeiro_nome}! Ignora essa mensagem Hahahaha\"\n",
    "\n",
    "    wp.send_message(mensagem)"
   ]
  },
  {
   "cell_type": "code",
   "execution_count": null,
   "metadata": {},
   "outputs": [],
   "source": [
    "sleep(10)\n",
    "wp.driver.close()"
   ]
  }
 ],
 "metadata": {
  "kernelspec": {
   "display_name": "Python 3",
   "language": "python",
   "name": "python3"
  },
  "language_info": {
   "codemirror_mode": {
    "name": "ipython",
    "version": 3
   },
   "file_extension": ".py",
   "mimetype": "text/x-python",
   "name": "python",
   "nbconvert_exporter": "python",
   "pygments_lexer": "ipython3",
   "version": "3.8.5"
  }
 },
 "nbformat": 4,
 "nbformat_minor": 4
}
